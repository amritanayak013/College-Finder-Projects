{
 "cells": [
  {
   "cell_type": "code",
   "execution_count": null,
   "metadata": {},
   "outputs": [],
   "source": [
    "##input\n",
    "print (\"Lets play ROCK, PAPER & SCISSORS\")\n",
    "player1 = str(input (\"Choose between r/p/s \\n\"))\n",
    "player2 = str(input (\"Choose between r/p/s \\n\"))\n",
    "\n",
    "##paper\n",
    "if (player1 == p) and (player2 == p):\n",
    "    print (\"player1 choose {option} and player2 choose {option2}\".format(option=player1, option2=player2))\n",
    "    print (\"That's a tie\")\n",
    "    \n",
    "elif (player1 == p) and (player2 == r):\n",
    "    print (\"player1 choose {option} and player2 choose {option2}\".format(option=player1, option2=player2))\n",
    "    print (\"Player1 won the game\")\n",
    "    \n",
    "elif (player1 == p) and (player2 == s):\n",
    "    print (\"player1 choose {option} and player2 choose {option2}\".format(option=player1, option2=player2))\n",
    "    print (\"Player2 won the game\")\n",
    "    \n",
    "##rock\n",
    "elif (player1 == r) and (player2 == r):\n",
    "    print (\"player1 choose {option} and player2 choose {option2}\".format(option=player1, option2=player2))\n",
    "    print (\"That's a tie\")\n",
    "    \n",
    "elif (player1 == r) and (player2 == s):\n",
    "    print (\"player1 choose {option} and player2 choose {option2}\".format(option=player1, option2=player2))\n",
    "    print (\"Player1 won the game\")\n",
    "    \n",
    "elif (player1 == r) and (player2 == p):\n",
    "    print (\"player1 choose {option} and player2 choose {option2}\".format(option=player1, option2=player2))\n",
    "    print (\"Player2 won the game\")\n",
    "\n",
    "##scissor\n",
    "elif (player1 == s) and (player2 == s):\n",
    "    print (\"player1 choose {option} and player2 choose {option2}\".format(option=player1, option2=player2))\n",
    "    print (\"That's a tie\")\n",
    "    \n",
    "elif (player1 == s) and (player2 == r):\n",
    "    print (\"player1 choose {option} and player2 choose {option2}\".format(option=player1, option2=player2))\n",
    "    print (\"Player1 won the game\")\n",
    "    \n",
    "elif (player1 == s) and (player2 == p):\n",
    "    print (\"player1 choose {option} and player2 choose {option2}\".format(option=player1, option2=player2))\n",
    "    print (\"Player1 won the game\")\n",
    "    \n",
    "##error\n",
    "else:\n",
    "    print (\"Error choose correct option\")\n"
   ]
  },
  {
   "cell_type": "code",
   "execution_count": null,
   "metadata": {},
   "outputs": [],
   "source": []
  }
 ],
 "metadata": {
  "kernelspec": {
   "display_name": "Python 3",
   "language": "python",
   "name": "python3"
  },
  "language_info": {
   "codemirror_mode": {
    "name": "ipython",
    "version": 3
   },
   "file_extension": ".py",
   "mimetype": "text/x-python",
   "name": "python",
   "nbconvert_exporter": "python",
   "pygments_lexer": "ipython3",
   "version": "3.7.6"
  }
 },
 "nbformat": 4,
 "nbformat_minor": 4
}
