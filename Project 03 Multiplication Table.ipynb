{
 "cells": [
  {
   "cell_type": "code",
   "execution_count": 3,
   "metadata": {},
   "outputs": [
    {
     "name": "stdout",
     "output_type": "stream",
     "text": [
      "Simple Table\n",
      "Enter any number of your choice = 9082\n",
      "####################\n",
      "9082 x 1 = 9082\n",
      "9082 x 2 = 18164\n",
      "9082 x 3 = 27246\n",
      "9082 x 4 = 36328\n",
      "9082 x 5 = 45410\n",
      "9082 x 6 = 54492\n",
      "9082 x 7 = 63574\n",
      "9082 x 8 = 72656\n",
      "9082 x 9 = 81738\n",
      "9082 x 10 = 90820\n",
      "9082 x 11 = 99902\n",
      "9082 x 12 = 108984\n",
      "9082 x 13 = 118066\n",
      "9082 x 14 = 127148\n",
      "9082 x 15 = 136230\n",
      "9082 x 16 = 145312\n",
      "9082 x 17 = 154394\n",
      "9082 x 18 = 163476\n",
      "9082 x 19 = 172558\n",
      "9082 x 20 = 181640\n",
      "####################\n"
     ]
    }
   ],
   "source": [
    "print(\"Simple Table\")\n",
    "num = int (input(\"Enter any number of your choice = \"))\n",
    "print (\"#\"*20)\n",
    "mul = 1\n",
    "while (mul <= 20):\n",
    "    print (num, \"x\",mul, \"=\", num*mul)\n",
    "    mul = mul+1\n",
    "print (\"#\"*20)"
   ]
  },
  {
   "cell_type": "code",
   "execution_count": null,
   "metadata": {},
   "outputs": [],
   "source": []
  }
 ],
 "metadata": {
  "kernelspec": {
   "display_name": "Python 3",
   "language": "python",
   "name": "python3"
  },
  "language_info": {
   "codemirror_mode": {
    "name": "ipython",
    "version": 3
   },
   "file_extension": ".py",
   "mimetype": "text/x-python",
   "name": "python",
   "nbconvert_exporter": "python",
   "pygments_lexer": "ipython3",
   "version": "3.7.6"
  }
 },
 "nbformat": 4,
 "nbformat_minor": 4
}
