{
 "cells": [
  {
   "cell_type": "code",
   "execution_count": 6,
   "metadata": {},
   "outputs": [
    {
     "name": "stdout",
     "output_type": "stream",
     "text": [
      "Enter your first name \n",
      "GYAN\n",
      "Enter your last name \n",
      "NAYAK\n",
      "Enter your class \n",
      "10\n",
      "Enter your division \n",
      "A\n",
      "Enter your roll no \n",
      "7108\n",
      "Enter Subject1 \n",
      "Maths\n",
      "Enter Subject2 \n",
      "Science\n",
      "Enter Subject3 \n",
      "English\n",
      "Enter percentage \n",
      "83\n"
     ]
    }
   ],
   "source": [
    "first_name = str(input (\"Enter your first name \\n\"))\n",
    "last_name = str(input (\"Enter your last name \\n\"))\n",
    "std = int(input (\"Enter your class \\n\"))\n",
    "division = str(input (\"Enter your division \\n\"))\n",
    "roll_no = int(input (\"Enter your roll no \\n\"))\n",
    "sub1 = str(input (\"Enter Subject1 \\n\"))\n",
    "sub2 = str(input (\"Enter Subject2 \\n\"))\n",
    "sub3 = str(input (\"Enter Subject3 \\n\"))\n",
    "percent = float (input (\"Enter percentage \\n\"))"
   ]
  },
  {
   "cell_type": "code",
   "execution_count": null,
   "metadata": {},
   "outputs": [],
   "source": []
  }
 ],
 "metadata": {
  "kernelspec": {
   "display_name": "Python 3",
   "language": "python",
   "name": "python3"
  },
  "language_info": {
   "codemirror_mode": {
    "name": "ipython",
    "version": 3
   },
   "file_extension": ".py",
   "mimetype": "text/x-python",
   "name": "python",
   "nbconvert_exporter": "python",
   "pygments_lexer": "ipython3",
   "version": "3.7.6"
  }
 },
 "nbformat": 4,
 "nbformat_minor": 4
}
